{
 "cells": [
  {
   "cell_type": "raw",
   "id": "deb6c3b3-c994-41e0-8523-1885686fc8ad",
   "metadata": {},
   "source": [
    "Q1: Explain the following with an example?\n",
    "1) Artificial Intelligence\n",
    "2) Machine Learning\n",
    "3) Deep Learning"
   ]
  },
  {
   "cell_type": "code",
   "execution_count": 2,
   "id": "19a2a68a-a6b4-4281-8925-6181825e24d4",
   "metadata": {},
   "outputs": [],
   "source": [
    "# Artificial Intelligence: smart applications that can perform its own task without any hunman inetrvension.\n",
    "# Machine Learning: It provides stats tool to learn, analyze, visualize and develop predetective models from the data.\n",
    "# Deep Learning: mimic human brain (multi layered neural networks)"
   ]
  },
  {
   "cell_type": "raw",
   "id": "1b995847-5702-4140-acea-450186286cac",
   "metadata": {},
   "source": [
    "Q2: What is supervised learning? List some examples of supervised learning?"
   ]
  },
  {
   "cell_type": "markdown",
   "id": "e1246d45-63a2-4288-8654-28f46493e6b9",
   "metadata": {},
   "source": [
    "## Supervised learning (SL) is a machine learning paradigm for problems where the available data consists of labeled examples, meaning that each data point contains features (covariates) and an associated label.\n",
    "## classification and regressions are 2 different types of supervised learnings.\n",
    "## Apartment cost based on locality, number of rooms, flat area"
   ]
  },
  {
   "cell_type": "raw",
   "id": "8c818173-fd65-40e8-a5c0-8c4d38317b61",
   "metadata": {},
   "source": [
    "Q3: What is unsupervised learning? List some examples of unsupervised learning?"
   ]
  },
  {
   "cell_type": "markdown",
   "id": "adad81b4-4207-480b-bff0-bc79e92c71f0",
   "metadata": {},
   "source": [
    "## No particular output\n",
    "## data sets are with cluster or similar groups\n",
    "## Unsupervised learning is when it can provide a set of unlabelled data, which it is required to analyze and find patterns inside. The examples are dimension reduction and clustering."
   ]
  },
  {
   "cell_type": "raw",
   "id": "f76db088-375d-4df5-86c2-97a4fe9de396",
   "metadata": {},
   "source": [
    "Q4: What is the difference between AI, ML, DL, and DS?"
   ]
  },
  {
   "cell_type": "markdown",
   "id": "f5ea0912-b818-446d-b7d0-3edf9756bbfe",
   "metadata": {},
   "source": [
    "## ML is sub-category of AI, DL is the sub-category of ML,\n",
    "\n",
    "## AI ML DL are not part or subset of DS, although, certain tasks involved in DS intersect with AI, ML and DL. DS is a data-driven technique and each of DS, ML and DL have processes that relate to data or big data, contextually. DS, ML, DL and AI need loads of data to begin with."
   ]
  },
  {
   "cell_type": "markdown",
   "id": "65bf21ed-944a-42d5-b315-eee16de9c722",
   "metadata": {},
   "source": [
    "## Data Science involves analysis, visualization, and prediction. It uses different statistical techniques, while AI and Machine Learning implements models to predict future events and makes use of algorithms."
   ]
  },
  {
   "cell_type": "markdown",
   "id": "1c30e239-b89c-4fb1-9564-e29ec4a97df4",
   "metadata": {},
   "source": [
    "## Machine Learning is a sub-category of AI, and Deep Learning is a sub-category of ML, meaning they are both forms of AI. Artificial intelligence is the broad idea that machines can intelligently execute tasks by mimicking human behaviours and thought processes."
   ]
  },
  {
   "cell_type": "raw",
   "id": "126bd768-e4c9-4581-8337-a9b117b35948",
   "metadata": {},
   "source": [
    "Q5: What are the main differencs between supervised, unsupervised, and semi-supervised learning?"
   ]
  },
  {
   "cell_type": "markdown",
   "id": "2cea58ae-78b8-4ab8-b9f0-b681d9f4a679",
   "metadata": {},
   "source": [
    "## Supervised learning algorithms are trained using labeled data. Unsupervised learning algorithms are trained using unlabeled data.\n",
    "\n",
    "## semi-supervised learning algorithms are trained using labeled and unlabeled data."
   ]
  },
  {
   "cell_type": "raw",
   "id": "3b48e7c2-15b1-48f2-8914-91c88903ed0a",
   "metadata": {},
   "source": [
    "Q6: What is train, test and validation split? Explain the importance of each term."
   ]
  },
  {
   "cell_type": "markdown",
   "id": "e3912f91-9e0c-407f-9e3b-0a7de340a45e",
   "metadata": {},
   "source": [
    "## A train test split is when you split your data into a training set and a testing set. The training set is used for training the model, and the testing set is used to test your model. This allows you to train your models on the training set, and then test their accuracy on the unseen testing set"
   ]
  },
  {
   "cell_type": "markdown",
   "id": "0b59d12a-4152-455c-a601-b19fbe03ae3a",
   "metadata": {},
   "source": [
    "## Training data is the set of the data on which the actual training takes place. Validation split helps to improve the model performance by fine-tuning the model after each epoch. The test set informs us about the final accuracy of the model after completing the training phase."
   ]
  },
  {
   "cell_type": "raw",
   "id": "5410cb0a-cb6b-4bbe-b969-534233fb1a46",
   "metadata": {},
   "source": [
    "Q7: How can unsupervised learning be used in anomaly detection?"
   ]
  },
  {
   "cell_type": "markdown",
   "id": "dc742ccf-6f35-4f2c-8f00-b363be4b9835",
   "metadata": {},
   "source": [
    "## Unsupervised is useful when the data is unlabeled and thus requires less work to process the data set before- hand. Anomaly detection techniques of unsupervised nature assume that normal data points occur considerably more frequently than anomalous data points."
   ]
  },
  {
   "cell_type": "raw",
   "id": "3351648c-82bb-421d-997f-113018b04e7e",
   "metadata": {},
   "source": [
    "Q8: List down some commonly used supervised learning algorithms and unsupervisd learning \n",
    "algorithms."
   ]
  },
  {
   "cell_type": "markdown",
   "id": "81d73e0f-364c-4919-a1a6-b157d9b870af",
   "metadata": {},
   "source": [
    "## The most commonly used Supervised Learning algorithms are decision tree, logistic regression, linear regression, support vector machine. \n",
    "## The most commonly used Unsupervised Learning algorithms are k-means clustering, hierarchical clustering"
   ]
  }
 ],
 "metadata": {
  "kernelspec": {
   "display_name": "Python 3 (ipykernel)",
   "language": "python",
   "name": "python3"
  },
  "language_info": {
   "codemirror_mode": {
    "name": "ipython",
    "version": 3
   },
   "file_extension": ".py",
   "mimetype": "text/x-python",
   "name": "python",
   "nbconvert_exporter": "python",
   "pygments_lexer": "ipython3",
   "version": "3.10.8"
  }
 },
 "nbformat": 4,
 "nbformat_minor": 5
}
