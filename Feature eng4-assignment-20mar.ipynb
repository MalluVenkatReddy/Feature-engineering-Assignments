{
 "cells": [
  {
   "cell_type": "code",
   "execution_count": null,
   "id": "b4dbb7b4-eba1-46ad-92e7-57f8f79eebe0",
   "metadata": {},
   "outputs": [],
   "source": [
    "Q1. What is data encoding? How is it useful in data science?"
   ]
  },
  {
   "cell_type": "markdown",
   "id": "7a150126-d66c-44a4-a51d-dce4fee90b39",
   "metadata": {},
   "source": [
    "#### Encoding categorical data is a process of converting categorical data into integer format so that the data with converted categorical values can be provided to the models to give and improve the predictions"
   ]
  },
  {
   "cell_type": "code",
   "execution_count": null,
   "id": "935bace6-e45d-45c4-9b11-aa4d213a0668",
   "metadata": {},
   "outputs": [],
   "source": [
    "Q2. What is nominal encoding? Provide an example of how you would use it in a real-world scenario."
   ]
  },
  {
   "cell_type": "markdown",
   "id": "a668859c-ab20-4ce5-97b3-1d5b7976a0eb",
   "metadata": {},
   "source": [
    "#### When we have a feature where variables are just names and there is no order or rank to this variable's feature. For example: City of person lives in, Gender of person, Marital Status, etc… In the above example, We do not have any order or rank, or sequence."
   ]
  },
  {
   "cell_type": "code",
   "execution_count": null,
   "id": "f6a75ba5-18af-4360-9821-36ab70e1a1b9",
   "metadata": {},
   "outputs": [],
   "source": [
    "Q3. In what situations is nominal encoding preferred over one-hot encoding? Provide a practical example."
   ]
  },
  {
   "cell_type": "markdown",
   "id": "5e1887f2-1c8a-4bd1-a092-50f18e408435",
   "metadata": {},
   "source": [
    "#### ### Nominal/OHE Encoding\n",
    "One hot encoding, also known as nominal encoding, is a technique used to represent categorical data as numerical data, which is more suitable for machine learning algorithms. In this technique, each category is represented as a binary vector where each bit corresponds to a unique category. For example, if we have a categorical variable \"color\" with three possible values (red, green, blue), we can represent it using one hot encoding as follows:\n",
    "\n",
    "1. Red: [1, 0, 0]\n",
    "2. Green: [0, 1, 0]\n",
    "3. Blue: [0, 0, 1]"
   ]
  },
  {
   "cell_type": "code",
   "execution_count": null,
   "id": "2934ca9e-dac5-4a17-a4da-589e9291dee3",
   "metadata": {},
   "outputs": [],
   "source": [
    "Q4. Suppose you have a dataset containing categorical data with 5 unique values. Which encoding \n",
    "technique would you use to transform this data into a format suitable for machine learning algorithms? \n",
    "Explain why you made this choice."
   ]
  },
  {
   "cell_type": "markdown",
   "id": "c4d2b1cb-1f84-4133-8467-5aa0cd780185",
   "metadata": {},
   "source": [
    "### we will use One Hot Encoding for 5 unique values.\n",
    "### we can add 5 diffrent columns using SPARS Matrix"
   ]
  },
  {
   "cell_type": "code",
   "execution_count": null,
   "id": "2d5dc72a-e8cc-48e6-8c24-96485263797b",
   "metadata": {},
   "outputs": [],
   "source": [
    "Q5. In a machine learning project, you have a dataset with 1000 rows and 5 columns. Two of the columns \n",
    "are categorical, and the remaining three columns are numerical. If you were to use nominal encoding to \n",
    "transform the categorical data, how many new columns would be created? Show your calculations."
   ]
  },
  {
   "cell_type": "markdown",
   "id": "229d2e26-54c0-4313-ac06-b9891f674df3",
   "metadata": {},
   "source": [
    "### we need to know how many unique features are there to know the total columns required."
   ]
  },
  {
   "cell_type": "code",
   "execution_count": null,
   "id": "d98be9ca-c338-4c7f-a51b-ae88eaa03cf7",
   "metadata": {},
   "outputs": [],
   "source": [
    "Q6. You are working with a dataset containing information about different types of animals, including their \n",
    "species, habitat, and diet. Which encoding technique would you use to transform the categorical data into \n",
    "a format suitable for machine learning algorithms? Justify your answer."
   ]
  },
  {
   "cell_type": "markdown",
   "id": "6c81b6fe-077e-4a08-a5c4-855a0a10fb71",
   "metadata": {},
   "source": [
    "#### 4 species, 5 habitat and 3 diet re there for anmimal categories."
   ]
  },
  {
   "cell_type": "markdown",
   "id": "8341402f-a324-4405-a1fc-9f5f59ddf840",
   "metadata": {},
   "source": [
    "#### total 12 columsn we need to add using OHE Encoder"
   ]
  },
  {
   "cell_type": "code",
   "execution_count": null,
   "id": "6bcb73cf-b671-4aa2-a8e2-4a443dd00160",
   "metadata": {},
   "outputs": [],
   "source": [
    "Q7.You are working on a project that involves predicting customer churn for a telecommunications \n",
    "acompany. You have a dataset with 5 features, including the customer's gender, age, contract type, \n",
    "monthly charges, and tenure. Which encoding technique(s) would you use to transform the categorical \n",
    "data into numerical data? Provide a step-by-step explanation of how you would implement the encoding."
   ]
  },
  {
   "cell_type": "markdown",
   "id": "927ce829-c289-4b2d-9f0c-d551512adf5d",
   "metadata": {},
   "source": [
    "#### out of these 5 features (age, gender, contract type, monthly charges and tenure), only gender and contracxt type atre categirical values"
   ]
  },
  {
   "cell_type": "markdown",
   "id": "ec35e6cf-7155-4449-ad34-e22f08a07900",
   "metadata": {},
   "source": [
    "#### we will use Ordinal encoing to encode gender(male or female) and contract type (Contract or perminant)"
   ]
  }
 ],
 "metadata": {
  "kernelspec": {
   "display_name": "Python 3 (ipykernel)",
   "language": "python",
   "name": "python3"
  },
  "language_info": {
   "codemirror_mode": {
    "name": "ipython",
    "version": 3
   },
   "file_extension": ".py",
   "mimetype": "text/x-python",
   "name": "python",
   "nbconvert_exporter": "python",
   "pygments_lexer": "ipython3",
   "version": "3.10.8"
  }
 },
 "nbformat": 4,
 "nbformat_minor": 5
}
