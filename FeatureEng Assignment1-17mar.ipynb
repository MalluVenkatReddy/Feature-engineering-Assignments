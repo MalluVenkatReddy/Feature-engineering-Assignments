{
 "cells": [
  {
   "cell_type": "code",
   "execution_count": null,
   "id": "739e3eb7-2b17-4123-8fd1-b4c69601a511",
   "metadata": {},
   "outputs": [],
   "source": [
    "Q1: What are missing values in a dataset? Why is it essential to handle missing values? Name some \n",
    "algorithms that are not affected by missing values."
   ]
  },
  {
   "cell_type": "markdown",
   "id": "3d6e32c1-ea07-4dea-9451-7d32621eae13",
   "metadata": {
    "tags": []
   },
   "source": [
    "#### Missing data, or missing values, occur when you don't have data stored for certain variables or participants. Data can go missing due to incomplete data entry, equipment malfunctions, lost files, and many other reasons. In any dataset, there are usually some missing data."
   ]
  },
  {
   "cell_type": "markdown",
   "id": "f3e94edc-2dfd-43f2-a6ca-c75cd35af9e9",
   "metadata": {},
   "source": [
    "#### The concept of missing values is important to understand in order to successfully manage data. If the missing values are not handled properly by the researcher, then he/she may end up drawing an inaccurate inference about the data."
   ]
  },
  {
   "cell_type": "markdown",
   "id": "8f8768b7-dd39-43b9-8c50-b81913469e1b",
   "metadata": {},
   "source": [
    "#### k-NN and Random Forest algorithms can also support missing values. the k-NN algorithm considers the missing values by taking the majority of the K nearest values.\n",
    "\n",
    "#### Unfortunately, the scikit-learn library implementation of k-NN and RandomForest does not support the presence of the missing values."
   ]
  },
  {
   "cell_type": "code",
   "execution_count": null,
   "id": "f0454f0c-222e-459e-a774-411e64bfe1c4",
   "metadata": {},
   "outputs": [],
   "source": [
    "Q2: List down techniques used to handle missing data.  Give an example of each with python code."
   ]
  },
  {
   "cell_type": "markdown",
   "id": "0eb3fd0f-1ded-4568-935d-a9b2373ea8ad",
   "metadata": {},
   "source": [
    "#### Mean, Median and Mode are some of the most common methods of imputing values when dealing with missing data"
   ]
  },
  {
   "cell_type": "code",
   "execution_count": null,
   "id": "93e9bc8a-a8f8-4518-9f4c-e6bf627010fc",
   "metadata": {},
   "outputs": [],
   "source": [
    "Q3: Explain the imbalanced data. What will happen if imbalanced data is not handled?"
   ]
  },
  {
   "cell_type": "markdown",
   "id": "930f2ced-d4d1-4822-8dd7-490a2b6394ce",
   "metadata": {},
   "source": [
    "#### A classification data set with skewed class proportions is called imbalanced. Classes that make up a large proportion of the data set are called majority classes. Those that make up a smaller proportion are minority classes"
   ]
  },
  {
   "cell_type": "markdown",
   "id": "d6080a62-c39c-4dbf-9065-78e41fc0c5c3",
   "metadata": {},
   "source": [
    "#### Imbalanced data set will lead algorithms to get good results by returning the majority. That will be a problem if you are interested in the minority more. So, balancing is a way to force the algorithm to give more weight to the minority."
   ]
  },
  {
   "cell_type": "code",
   "execution_count": null,
   "id": "1c33bfce-a8cb-4246-a14d-e4a95439da09",
   "metadata": {},
   "outputs": [],
   "source": [
    "Q4: What are Up-sampling and Down-sampling? Explain with an example when up-sampling and down sampling are required."
   ]
  },
  {
   "cell_type": "markdown",
   "id": "3c7a68a0-0def-4897-acde-a66843a25b01",
   "metadata": {},
   "source": [
    "#### Let's start by defining those two new terms: Downsampling (in this context) means training on a disproportionately low subset of the majority class examples. Upweighting means adding an example weight to the downsampled class equal to the factor by which you downsampled."
   ]
  },
  {
   "cell_type": "code",
   "execution_count": 19,
   "id": "2c5b5ee7-b383-4030-9eaf-00fc2d4d7bbd",
   "metadata": {},
   "outputs": [],
   "source": [
    "import numpy as np\n",
    "import pandas as pd\n",
    "\n",
    "# Set the random seed for reproducibility\n",
    "np.random.seed(123)\n",
    "\n",
    "# Create a dataframe with two classes\n",
    "n_samples = 1000\n",
    "class_0_ratio = 0.9\n",
    "n_class_0 = int(n_samples * class_0_ratio)\n",
    "n_class_1 = n_samples - n_class_0"
   ]
  },
  {
   "cell_type": "code",
   "execution_count": 20,
   "id": "40f9a1e9-3118-42a3-bf54-6f120dc1a5b4",
   "metadata": {},
   "outputs": [
    {
     "data": {
      "text/plain": [
       "(900, 100)"
      ]
     },
     "execution_count": 20,
     "metadata": {},
     "output_type": "execute_result"
    }
   ],
   "source": [
    "n_class_0,n_class_1"
   ]
  },
  {
   "cell_type": "markdown",
   "id": "6ef579aa-176e-488c-86a3-0230660b59c1",
   "metadata": {},
   "source": [
    "### this is the example for  pwerforming up and down sampling"
   ]
  },
  {
   "cell_type": "code",
   "execution_count": null,
   "id": "df9435b7-21ba-4d90-825f-c50def6462b9",
   "metadata": {},
   "outputs": [],
   "source": [
    "Q5: What is data Augmentation? Explain SMOTE."
   ]
  },
  {
   "cell_type": "markdown",
   "id": "7e2f79ab-e4a0-49c3-b52e-c6867f14151b",
   "metadata": {},
   "source": [
    "#### The SMOTE algorithm. SMOTE is an algorithm that performs data augmentation by creating synthetic data points based on the original data points. SMOTE can be seen as an advanced version of oversampling, or as a specific algorithm for data augmentation"
   ]
  },
  {
   "cell_type": "code",
   "execution_count": null,
   "id": "17e05c43-88bd-436d-a973-3bce7f49b5d3",
   "metadata": {},
   "outputs": [],
   "source": [
    "Q6: What are outliers in a dataset? Why is it essential to handle outliers?"
   ]
  },
  {
   "cell_type": "markdown",
   "id": "ae06e63b-9784-4d55-9b38-a5a7b94984f5",
   "metadata": {},
   "source": [
    "#### Outliers are extreme values that might do not match with the rest of the data points. They might have made their way to the dataset either due to various errors. There are numerous ways to treat the outliers but based on the dataset we have to choose the best method."
   ]
  },
  {
   "cell_type": "markdown",
   "id": "9ad8c3c9-09f8-4940-856d-a215eb8aa0f2",
   "metadata": {},
   "source": [
    "#### Outliers are important because they can have a large influence on statistics derived from the dataset."
   ]
  },
  {
   "cell_type": "code",
   "execution_count": null,
   "id": "5de4d63c-4796-4d19-a064-0b4707c55d23",
   "metadata": {},
   "outputs": [],
   "source": [
    "Q7: You are working on a project that requires analyzing customer data. However, you notice that some of \n",
    "the data is missing. What are some techniques you can use to handle the missing data in your analysis?"
   ]
  },
  {
   "cell_type": "markdown",
   "id": "6dc5f206-3606-41f0-9c10-a09a1175d0e4",
   "metadata": {},
   "source": [
    "#### When dealing with missing data, data scientists can use two primary methods to solve the error: imputation or the removal of data. The imputation method develops reasonable guesses for missing data. It's most useful when the percentage of missing data is low."
   ]
  },
  {
   "cell_type": "code",
   "execution_count": null,
   "id": "ea42551b-df89-4e43-9dcd-57738619b6a7",
   "metadata": {},
   "outputs": [],
   "source": [
    "Q8: You are working with a large dataset and find that a small percentage of the data is missing. What are \n",
    "some strategies you can use to determine if the missing data is missing at random or if there is a pattern \n",
    "to the missing data?"
   ]
  },
  {
   "cell_type": "markdown",
   "id": "a534761a-18e7-4ac4-be43-dc1573cf9408",
   "metadata": {},
   "source": [
    "#### Multiple imputation is another useful strategy for handling the missing data. In a multiple imputation, instead of substituting a single value for each missing data, the missing values are replaced with a set of plausible values which contain the natural variability and uncertainty of the right values."
   ]
  },
  {
   "cell_type": "code",
   "execution_count": null,
   "id": "6ab54dd7-20be-48fb-a730-c960260283ea",
   "metadata": {},
   "outputs": [],
   "source": [
    "Q9: Suppose you are working on a medical diagnosis project and find that the majority of patients in the \n",
    "dataset do not have the condition of interest, while a small percentage do. What are some strategies you \n",
    "can use to evaluate the performance of your machine learning model on this imbalanced dataset?"
   ]
  },
  {
   "cell_type": "markdown",
   "id": "318dfb66-977e-4c66-be39-7555051c07bb",
   "metadata": {},
   "source": [
    "#### use up sampling algorithm or SMOTE"
   ]
  },
  {
   "cell_type": "code",
   "execution_count": null,
   "id": "62fc765b-913f-435c-8397-43e49d85cc6d",
   "metadata": {},
   "outputs": [],
   "source": [
    "Q10: When attempting to estimate customer satisfaction for a project, you discover that the dataset is \n",
    "unbalanced, with the bulk of customers reporting being satisfied. What methods can you employ to \n",
    "balance the dataset and down-sample the majority class?"
   ]
  },
  {
   "cell_type": "markdown",
   "id": "818a2c6e-504b-4754-b37b-d75ae59ef84b",
   "metadata": {},
   "source": [
    "#### Resampling (Oversampling and Undersampling)\n",
    "This technique is called oversampling. Similarly, we can randomly delete rows from the majority class to match them with the minority class which is called undersampling. After sampling the data we can get a balanced dataset for both majority and minority classes"
   ]
  },
  {
   "cell_type": "code",
   "execution_count": null,
   "id": "02db2a38-6d52-4e7f-b3db-ee2f015a7110",
   "metadata": {},
   "outputs": [],
   "source": [
    "Q11: You discover that the dataset is unbalanced with a low percentage of occurrences while working on a \n",
    "project that requires you to estimate the occurrence of a rare event. What methods can you employ to \n",
    "balance the dataset and up-sample the minority class"
   ]
  },
  {
   "cell_type": "markdown",
   "id": "7cbc5cfc-c248-44bb-9566-cbdb6dd26ac6",
   "metadata": {},
   "source": [
    "#### Resampling (Oversampling and Undersampling)"
   ]
  },
  {
   "cell_type": "markdown",
   "id": "25b99d69-32e7-4bdc-84f9-ae44e32ca5a6",
   "metadata": {},
   "source": [
    "#### It has been observed that our target class has an imbalance. So, we’ll try to upsample the data so that the minority class matches with the majority class."
   ]
  }
 ],
 "metadata": {
  "kernelspec": {
   "display_name": "Python 3 (ipykernel)",
   "language": "python",
   "name": "python3"
  },
  "language_info": {
   "codemirror_mode": {
    "name": "ipython",
    "version": 3
   },
   "file_extension": ".py",
   "mimetype": "text/x-python",
   "name": "python",
   "nbconvert_exporter": "python",
   "pygments_lexer": "ipython3",
   "version": "3.10.8"
  }
 },
 "nbformat": 4,
 "nbformat_minor": 5
}
